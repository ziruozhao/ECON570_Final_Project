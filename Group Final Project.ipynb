{
 "cells": [
  {
   "cell_type": "markdown",
   "metadata": {},
   "source": [
    "## Econ 570 Final Project\n",
    "## Predict Medical Costs based on Personal Characteristics\n",
    "\n",
    "#### *Group Members:  Feng Cheng (6061910560), Jiachen Zhang (4703851532), Ziruo Zhao (7912734551)*"
   ]
  },
  {
   "cell_type": "markdown",
   "metadata": {},
   "source": [
    "The objective of this project is to predict the medical costs based on the characteristics of each person. \n",
    "\n",
    "This project is organized in the following sections:\n",
    "\n",
    "* **Section 1** - Introduction \n",
    "* **Section 2** - Data Processing\n",
    "* **Section 3** - Modeling\n",
    "* **Section 4** - Findings\n",
    "* **Section 5** - Conclusions"
   ]
  },
  {
   "cell_type": "markdown",
   "metadata": {},
   "source": [
    "## **Section 1**  - Introduction"
   ]
  },
  {
   "cell_type": "markdown",
   "metadata": {},
   "source": [
    "**What question are you answering with your project?**\n",
    "\n",
    "The objective of this project is to predict the medical costs based on the characteristics of each person. In this project, our team is trying to answer whether people’s Body Mass Index (BMI), age, and smoking behavior can be used to predict their medical cost. BMI is a measure of body fat, it equals to a person’s weight in kilograms (or pounds) divided by the square of height in meters (or feet)."
   ]
  },
  {
   "cell_type": "markdown",
   "metadata": {},
   "source": [
    "**Why should we care about this question?**\n",
    "\n",
    "Knowing how much medical cost would be will help people better choose appropriate health insurance. People will then have a basic idea on how much they should spend on health coverages based on their personal information. They have less chance to underestimate how much medical costs can be.\n"
   ]
  },
  {
   "cell_type": "markdown",
   "metadata": {},
   "source": [
    "**Have there been previous papers in the economics literature addressing this question? Summarize previous research briefly.**\n",
    "\n",
    "There is one published article online called “Association of body mass index with health care expenditures in the United States by age and sex”, written by Zachary J. Ward, Sara N. Bleich, Michael W. Long and Steven L. Gortmaker, has discussed the relationship between medical cost and BMI, age and gender. \n",
    "In the paper, authors used data from the Medical Expenditure Panel Survey (MEPS) from 2011 to 2016 to estimate continuous BMI-related health care expenditures. They have collected 175,726 respondents’ data in total. \n",
    "They used generalized additive models to estimate the relationship between log BMI and the log of the standardized expenditures using a two-part model. They found that BMI has a significant positive correlation with health care expenditures. People who have a higher BMI would face higher health care costs: over 30 units of BMI, each one-unit BMI increase was associated with an additional cost of $253 per person. \n"
   ]
  },
  {
   "cell_type": "markdown",
   "metadata": {},
   "source": [
    "## **Section 2**  - Data Processing"
   ]
  },
  {
   "cell_type": "markdown",
   "metadata": {},
   "source": [
    "This project used a public dataset “medical cost personal datasets” from Kaggle, created by Miri Choi. But the data is originally used in the book Machine Learning with R by Brett Lantz. All of the datasets are now in the public domain but simply got cleaned up and recorded to match the format in the book. This medical cost personal datasets contain data of people’s medical insurance cost and their personal characteristics, such as age, sex, bmi and smoking behavior etc."
   ]
  },
  {
   "cell_type": "code",
   "execution_count": 103,
   "metadata": {
    "execution": {
     "iopub.execute_input": "2022-04-07T00:22:14.13642Z",
     "iopub.status.busy": "2022-04-07T00:22:14.136148Z",
     "iopub.status.idle": "2022-04-07T00:22:14.574698Z",
     "shell.execute_reply": "2022-04-07T00:22:14.573949Z",
     "shell.execute_reply.started": "2022-04-07T00:22:14.136345Z"
    }
   },
   "outputs": [],
   "source": [
    "# Importing the libraries\n",
    "import numpy as np\n",
    "import matplotlib.pyplot as plt\n",
    "import pandas as pd\n",
    "import seaborn as sns\n",
    "import statsmodels.api as sm\n",
    "from sklearn.metrics import mean_squared_error, r2_score, mean_absolute_error, mean_absolute_percentage_error\n",
    "from sklearn.compose import ColumnTransformer\n",
    "from sklearn.model_selection import train_test_split"
   ]
  },
  {
   "cell_type": "code",
   "execution_count": 104,
   "metadata": {
    "execution": {
     "iopub.execute_input": "2022-04-07T00:22:14.576093Z",
     "iopub.status.busy": "2022-04-07T00:22:14.575918Z",
     "iopub.status.idle": "2022-04-07T00:22:14.588062Z",
     "shell.execute_reply": "2022-04-07T00:22:14.587517Z",
     "shell.execute_reply.started": "2022-04-07T00:22:14.57607Z"
    }
   },
   "outputs": [],
   "source": [
    "# Getting the data\n",
    "df = pd.read_csv('insurance.csv')"
   ]
  },
  {
   "cell_type": "code",
   "execution_count": 105,
   "metadata": {
    "execution": {
     "iopub.execute_input": "2022-04-07T00:22:14.591804Z",
     "iopub.status.busy": "2022-04-07T00:22:14.590728Z",
     "iopub.status.idle": "2022-04-07T00:22:14.607325Z",
     "shell.execute_reply": "2022-04-07T00:22:14.606665Z",
     "shell.execute_reply.started": "2022-04-07T00:22:14.591747Z"
    }
   },
   "outputs": [
    {
     "data": {
      "text/html": [
       "<div>\n",
       "<style scoped>\n",
       "    .dataframe tbody tr th:only-of-type {\n",
       "        vertical-align: middle;\n",
       "    }\n",
       "\n",
       "    .dataframe tbody tr th {\n",
       "        vertical-align: top;\n",
       "    }\n",
       "\n",
       "    .dataframe thead th {\n",
       "        text-align: right;\n",
       "    }\n",
       "</style>\n",
       "<table border=\"1\" class=\"dataframe\">\n",
       "  <thead>\n",
       "    <tr style=\"text-align: right;\">\n",
       "      <th></th>\n",
       "      <th>age</th>\n",
       "      <th>sex</th>\n",
       "      <th>bmi</th>\n",
       "      <th>children</th>\n",
       "      <th>smoker</th>\n",
       "      <th>region</th>\n",
       "      <th>charges</th>\n",
       "    </tr>\n",
       "  </thead>\n",
       "  <tbody>\n",
       "    <tr>\n",
       "      <th>0</th>\n",
       "      <td>19</td>\n",
       "      <td>female</td>\n",
       "      <td>27.900</td>\n",
       "      <td>0</td>\n",
       "      <td>yes</td>\n",
       "      <td>southwest</td>\n",
       "      <td>16884.92400</td>\n",
       "    </tr>\n",
       "    <tr>\n",
       "      <th>1</th>\n",
       "      <td>18</td>\n",
       "      <td>male</td>\n",
       "      <td>33.770</td>\n",
       "      <td>1</td>\n",
       "      <td>no</td>\n",
       "      <td>southeast</td>\n",
       "      <td>1725.55230</td>\n",
       "    </tr>\n",
       "    <tr>\n",
       "      <th>2</th>\n",
       "      <td>28</td>\n",
       "      <td>male</td>\n",
       "      <td>33.000</td>\n",
       "      <td>3</td>\n",
       "      <td>no</td>\n",
       "      <td>southeast</td>\n",
       "      <td>4449.46200</td>\n",
       "    </tr>\n",
       "    <tr>\n",
       "      <th>3</th>\n",
       "      <td>33</td>\n",
       "      <td>male</td>\n",
       "      <td>22.705</td>\n",
       "      <td>0</td>\n",
       "      <td>no</td>\n",
       "      <td>northwest</td>\n",
       "      <td>21984.47061</td>\n",
       "    </tr>\n",
       "    <tr>\n",
       "      <th>4</th>\n",
       "      <td>32</td>\n",
       "      <td>male</td>\n",
       "      <td>28.880</td>\n",
       "      <td>0</td>\n",
       "      <td>no</td>\n",
       "      <td>northwest</td>\n",
       "      <td>3866.85520</td>\n",
       "    </tr>\n",
       "  </tbody>\n",
       "</table>\n",
       "</div>"
      ],
      "text/plain": [
       "   age     sex     bmi  children smoker     region      charges\n",
       "0   19  female  27.900         0    yes  southwest  16884.92400\n",
       "1   18    male  33.770         1     no  southeast   1725.55230\n",
       "2   28    male  33.000         3     no  southeast   4449.46200\n",
       "3   33    male  22.705         0     no  northwest  21984.47061\n",
       "4   32    male  28.880         0     no  northwest   3866.85520"
      ]
     },
     "execution_count": 105,
     "metadata": {},
     "output_type": "execute_result"
    }
   ],
   "source": [
    "# Show the first five rows of the data\n",
    "df.head()"
   ]
  },
  {
   "cell_type": "code",
   "execution_count": 106,
   "metadata": {
    "execution": {
     "iopub.execute_input": "2022-04-07T00:22:14.609332Z",
     "iopub.status.busy": "2022-04-07T00:22:14.608637Z",
     "iopub.status.idle": "2022-04-07T00:22:14.621772Z",
     "shell.execute_reply": "2022-04-07T00:22:14.620831Z",
     "shell.execute_reply.started": "2022-04-07T00:22:14.609295Z"
    }
   },
   "outputs": [
    {
     "name": "stdout",
     "output_type": "stream",
     "text": [
      "<class 'pandas.core.frame.DataFrame'>\n",
      "RangeIndex: 1338 entries, 0 to 1337\n",
      "Data columns (total 7 columns):\n",
      " #   Column    Non-Null Count  Dtype  \n",
      "---  ------    --------------  -----  \n",
      " 0   age       1338 non-null   int64  \n",
      " 1   sex       1338 non-null   object \n",
      " 2   bmi       1338 non-null   float64\n",
      " 3   children  1338 non-null   int64  \n",
      " 4   smoker    1338 non-null   object \n",
      " 5   region    1338 non-null   object \n",
      " 6   charges   1338 non-null   float64\n",
      "dtypes: float64(2), int64(2), object(3)\n",
      "memory usage: 73.3+ KB\n"
     ]
    }
   ],
   "source": [
    "df.info()"
   ]
  },
  {
   "cell_type": "code",
   "execution_count": 107,
   "metadata": {
    "execution": {
     "iopub.execute_input": "2022-04-07T00:22:14.623075Z",
     "iopub.status.busy": "2022-04-07T00:22:14.622904Z",
     "iopub.status.idle": "2022-04-07T00:22:14.637863Z",
     "shell.execute_reply": "2022-04-07T00:22:14.63671Z",
     "shell.execute_reply.started": "2022-04-07T00:22:14.623054Z"
    }
   },
   "outputs": [],
   "source": [
    "# Separate of numerical columns and categorical columns\n",
    "cat_col = df.select_dtypes(include=['object']).columns\n",
    "num_col = df.select_dtypes(exclude=['object']).columns\n",
    "df_cat = df[cat_col]\n",
    "df_num = df[num_col]"
   ]
  },
  {
   "cell_type": "code",
   "execution_count": 108,
   "metadata": {
    "execution": {
     "iopub.execute_input": "2022-04-07T00:22:14.639712Z",
     "iopub.status.busy": "2022-04-07T00:22:14.638983Z",
     "iopub.status.idle": "2022-04-07T00:22:14.649078Z",
     "shell.execute_reply": "2022-04-07T00:22:14.648654Z",
     "shell.execute_reply.started": "2022-04-07T00:22:14.639674Z"
    }
   },
   "outputs": [
    {
     "data": {
      "text/plain": [
       "age         0.0\n",
       "sex         0.0\n",
       "bmi         0.0\n",
       "children    0.0\n",
       "smoker      0.0\n",
       "region      0.0\n",
       "charges     0.0\n",
       "dtype: float64"
      ]
     },
     "execution_count": 108,
     "metadata": {},
     "output_type": "execute_result"
    }
   ],
   "source": [
    "# Checking if there is any null value in the dataset\n",
    "df_null = df.isna().mean()\n",
    "df_null.sort_values(ascending = False)"
   ]
  },
  {
   "cell_type": "markdown",
   "metadata": {},
   "source": [
    "There aren't null values in the dataset."
   ]
  },
  {
   "cell_type": "code",
   "execution_count": 109,
   "metadata": {
    "execution": {
     "iopub.execute_input": "2022-04-07T00:22:14.650659Z",
     "iopub.status.busy": "2022-04-07T00:22:14.64991Z",
     "iopub.status.idle": "2022-04-07T00:22:14.808305Z",
     "shell.execute_reply": "2022-04-07T00:22:14.807448Z",
     "shell.execute_reply.started": "2022-04-07T00:22:14.650563Z"
    }
   },
   "outputs": [
    {
     "data": {
      "text/plain": [
       "(1338, 7)"
      ]
     },
     "execution_count": 109,
     "metadata": {},
     "output_type": "execute_result"
    },
    {
     "data": {
      "image/png": "[encoded data removed]",
      "text/plain": [
       "<Figure size 576x576 with 1 Axes>"
      ]
     },
     "metadata": {
      "needs_background": "light"
     },
     "output_type": "display_data"
    }
   ],
   "source": [
    "# Checking if there are any outliers\n",
    "outliers = ['charges']\n",
    "plt.rcParams['figure.figsize'] = [8,8]\n",
    "sns.boxplot(data=df[outliers], orient=\"v\", palette=\"Set1\" ,whis=1.5,saturation=1, width=0.7)\n",
    "plt.title(\"Outliers Distribution\", fontsize = 12, fontweight = 'bold')\n",
    "plt.ylabel(\"Profit Range\", fontweight = 'bold')\n",
    "plt.xlabel(\"Continuous Variable\", fontweight = 'bold')\n",
    "df.shape"
   ]
  },
  {
   "cell_type": "markdown",
   "metadata": {},
   "source": [
    "Based on 1.5 deviation from quartiles, there are a lot of outliers. We choose to check the number of the outliners first."
   ]
  },
  {
   "cell_type": "code",
   "execution_count": 110,
   "metadata": {
    "execution": {
     "iopub.execute_input": "2022-04-07T00:22:14.811088Z",
     "iopub.status.busy": "2022-04-07T00:22:14.809349Z",
     "iopub.status.idle": "2022-04-07T00:22:14.818488Z",
     "shell.execute_reply": "2022-04-07T00:22:14.817645Z",
     "shell.execute_reply.started": "2022-04-07T00:22:14.811059Z"
    }
   },
   "outputs": [
    {
     "name": "stdout",
     "output_type": "stream",
     "text": [
      "139\n"
     ]
    }
   ],
   "source": [
    "q1 = df['charges'].quantile(0.25)\n",
    "q3 = df['charges'].quantile(0.75)\n",
    "iqr = q3 - q1\n",
    "df_outliers_sum = ((df['charges'] < (q1 - 1.5 * iqr)) | (df['charges'] > (q3 + 1.5 * iqr))).sum()\n",
    "print(df_outliers_sum)"
   ]
  },
  {
   "cell_type": "markdown",
   "metadata": {},
   "source": [
    "So there are 139 outliers values, which represents about 10% of all population. \n",
    "We choose not to remove them because they are not so different from the average values and they probably are a natual part of the population we are studying."
   ]
  },
  {
   "cell_type": "code",
   "execution_count": 111,
   "metadata": {
    "execution": {
     "iopub.execute_input": "2022-04-07T00:22:14.820286Z",
     "iopub.status.busy": "2022-04-07T00:22:14.820095Z",
     "iopub.status.idle": "2022-04-07T00:22:14.837909Z",
     "shell.execute_reply": "2022-04-07T00:22:14.837126Z",
     "shell.execute_reply.started": "2022-04-07T00:22:14.820265Z"
    }
   },
   "outputs": [
    {
     "data": {
      "text/html": [
       "<div>\n",
       "<style scoped>\n",
       "    .dataframe tbody tr th:only-of-type {\n",
       "        vertical-align: middle;\n",
       "    }\n",
       "\n",
       "    .dataframe tbody tr th {\n",
       "        vertical-align: top;\n",
       "    }\n",
       "\n",
       "    .dataframe thead th {\n",
       "        text-align: right;\n",
       "    }\n",
       "</style>\n",
       "<table border=\"1\" class=\"dataframe\">\n",
       "  <thead>\n",
       "    <tr style=\"text-align: right;\">\n",
       "      <th></th>\n",
       "      <th>age</th>\n",
       "      <th>sex</th>\n",
       "      <th>bmi</th>\n",
       "      <th>children</th>\n",
       "      <th>smoker</th>\n",
       "      <th>region</th>\n",
       "      <th>charges</th>\n",
       "    </tr>\n",
       "  </thead>\n",
       "  <tbody>\n",
       "    <tr>\n",
       "      <th>581</th>\n",
       "      <td>19</td>\n",
       "      <td>male</td>\n",
       "      <td>30.59</td>\n",
       "      <td>0</td>\n",
       "      <td>no</td>\n",
       "      <td>northwest</td>\n",
       "      <td>1639.5631</td>\n",
       "    </tr>\n",
       "  </tbody>\n",
       "</table>\n",
       "</div>"
      ],
      "text/plain": [
       "     age   sex    bmi  children smoker     region    charges\n",
       "581   19  male  30.59         0     no  northwest  1639.5631"
      ]
     },
     "execution_count": 111,
     "metadata": {},
     "output_type": "execute_result"
    }
   ],
   "source": [
    "# Checking if there are any duplicated values\n",
    "df.loc[df.duplicated()]"
   ]
  },
  {
   "cell_type": "markdown",
   "metadata": {},
   "source": [
    "There is one duplicated value, so it will be removed."
   ]
  },
  {
   "cell_type": "code",
   "execution_count": 112,
   "metadata": {
    "execution": {
     "iopub.execute_input": "2022-04-07T00:22:14.83987Z",
     "iopub.status.busy": "2022-04-07T00:22:14.839688Z",
     "iopub.status.idle": "2022-04-07T00:22:14.857539Z",
     "shell.execute_reply": "2022-04-07T00:22:14.856661Z",
     "shell.execute_reply.started": "2022-04-07T00:22:14.839847Z"
    }
   },
   "outputs": [
    {
     "data": {
      "text/html": [
       "<div>\n",
       "<style scoped>\n",
       "    .dataframe tbody tr th:only-of-type {\n",
       "        vertical-align: middle;\n",
       "    }\n",
       "\n",
       "    .dataframe tbody tr th {\n",
       "        vertical-align: top;\n",
       "    }\n",
       "\n",
       "    .dataframe thead th {\n",
       "        text-align: right;\n",
       "    }\n",
       "</style>\n",
       "<table border=\"1\" class=\"dataframe\">\n",
       "  <thead>\n",
       "    <tr style=\"text-align: right;\">\n",
       "      <th></th>\n",
       "      <th>age</th>\n",
       "      <th>sex</th>\n",
       "      <th>bmi</th>\n",
       "      <th>children</th>\n",
       "      <th>smoker</th>\n",
       "      <th>region</th>\n",
       "      <th>charges</th>\n",
       "    </tr>\n",
       "  </thead>\n",
       "  <tbody>\n",
       "    <tr>\n",
       "      <th>0</th>\n",
       "      <td>19</td>\n",
       "      <td>female</td>\n",
       "      <td>27.900</td>\n",
       "      <td>0</td>\n",
       "      <td>yes</td>\n",
       "      <td>southwest</td>\n",
       "      <td>16884.92400</td>\n",
       "    </tr>\n",
       "    <tr>\n",
       "      <th>1</th>\n",
       "      <td>18</td>\n",
       "      <td>male</td>\n",
       "      <td>33.770</td>\n",
       "      <td>1</td>\n",
       "      <td>no</td>\n",
       "      <td>southeast</td>\n",
       "      <td>1725.55230</td>\n",
       "    </tr>\n",
       "    <tr>\n",
       "      <th>2</th>\n",
       "      <td>28</td>\n",
       "      <td>male</td>\n",
       "      <td>33.000</td>\n",
       "      <td>3</td>\n",
       "      <td>no</td>\n",
       "      <td>southeast</td>\n",
       "      <td>4449.46200</td>\n",
       "    </tr>\n",
       "    <tr>\n",
       "      <th>3</th>\n",
       "      <td>33</td>\n",
       "      <td>male</td>\n",
       "      <td>22.705</td>\n",
       "      <td>0</td>\n",
       "      <td>no</td>\n",
       "      <td>northwest</td>\n",
       "      <td>21984.47061</td>\n",
       "    </tr>\n",
       "    <tr>\n",
       "      <th>4</th>\n",
       "      <td>32</td>\n",
       "      <td>male</td>\n",
       "      <td>28.880</td>\n",
       "      <td>0</td>\n",
       "      <td>no</td>\n",
       "      <td>northwest</td>\n",
       "      <td>3866.85520</td>\n",
       "    </tr>\n",
       "    <tr>\n",
       "      <th>...</th>\n",
       "      <td>...</td>\n",
       "      <td>...</td>\n",
       "      <td>...</td>\n",
       "      <td>...</td>\n",
       "      <td>...</td>\n",
       "      <td>...</td>\n",
       "      <td>...</td>\n",
       "    </tr>\n",
       "    <tr>\n",
       "      <th>1333</th>\n",
       "      <td>50</td>\n",
       "      <td>male</td>\n",
       "      <td>30.970</td>\n",
       "      <td>3</td>\n",
       "      <td>no</td>\n",
       "      <td>northwest</td>\n",
       "      <td>10600.54830</td>\n",
       "    </tr>\n",
       "    <tr>\n",
       "      <th>1334</th>\n",
       "      <td>18</td>\n",
       "      <td>female</td>\n",
       "      <td>31.920</td>\n",
       "      <td>0</td>\n",
       "      <td>no</td>\n",
       "      <td>northeast</td>\n",
       "      <td>2205.98080</td>\n",
       "    </tr>\n",
       "    <tr>\n",
       "      <th>1335</th>\n",
       "      <td>18</td>\n",
       "      <td>female</td>\n",
       "      <td>36.850</td>\n",
       "      <td>0</td>\n",
       "      <td>no</td>\n",
       "      <td>southeast</td>\n",
       "      <td>1629.83350</td>\n",
       "    </tr>\n",
       "    <tr>\n",
       "      <th>1336</th>\n",
       "      <td>21</td>\n",
       "      <td>female</td>\n",
       "      <td>25.800</td>\n",
       "      <td>0</td>\n",
       "      <td>no</td>\n",
       "      <td>southwest</td>\n",
       "      <td>2007.94500</td>\n",
       "    </tr>\n",
       "    <tr>\n",
       "      <th>1337</th>\n",
       "      <td>61</td>\n",
       "      <td>female</td>\n",
       "      <td>29.070</td>\n",
       "      <td>0</td>\n",
       "      <td>yes</td>\n",
       "      <td>northwest</td>\n",
       "      <td>29141.36030</td>\n",
       "    </tr>\n",
       "  </tbody>\n",
       "</table>\n",
       "<p>1337 rows × 7 columns</p>\n",
       "</div>"
      ],
      "text/plain": [
       "      age     sex     bmi  children smoker     region      charges\n",
       "0      19  female  27.900         0    yes  southwest  16884.92400\n",
       "1      18    male  33.770         1     no  southeast   1725.55230\n",
       "2      28    male  33.000         3     no  southeast   4449.46200\n",
       "3      33    male  22.705         0     no  northwest  21984.47061\n",
       "4      32    male  28.880         0     no  northwest   3866.85520\n",
       "...   ...     ...     ...       ...    ...        ...          ...\n",
       "1333   50    male  30.970         3     no  northwest  10600.54830\n",
       "1334   18  female  31.920         0     no  northeast   2205.98080\n",
       "1335   18  female  36.850         0     no  southeast   1629.83350\n",
       "1336   21  female  25.800         0     no  southwest   2007.94500\n",
       "1337   61  female  29.070         0    yes  northwest  29141.36030\n",
       "\n",
       "[1337 rows x 7 columns]"
      ]
     },
     "execution_count": 112,
     "metadata": {},
     "output_type": "execute_result"
    }
   ],
   "source": [
    "#dropping duplicated value\n",
    "df.drop(581)"
   ]
  },
  {
   "cell_type": "markdown",
   "metadata": {},
   "source": [
    "### Visualizing data by column"
   ]
  },
  {
   "cell_type": "code",
   "execution_count": 113,
   "metadata": {
    "execution": {
     "iopub.execute_input": "2022-04-07T00:22:14.858926Z",
     "iopub.status.busy": "2022-04-07T00:22:14.858662Z",
     "iopub.status.idle": "2022-04-07T00:22:15.305541Z",
     "shell.execute_reply": "2022-04-07T00:22:15.304632Z",
     "shell.execute_reply.started": "2022-04-07T00:22:14.858893Z"
    }
   },
   "outputs": [
    {
     "data": {
      "text/plain": [
       "Text(0, 0.5, 'Count')"
      ]
     },
     "execution_count": 113,
     "metadata": {},
     "output_type": "execute_result"
    },
    {
     "data": {
      "image/png": "[encoded data removed]",
      "text/plain": [
       "<Figure size 720x720 with 1 Axes>"
      ]
     },
     "metadata": {
      "needs_background": "light"
     },
     "output_type": "display_data"
    }
   ],
   "source": [
    "#Visualizing the age column\n",
    "plt.rcParams['figure.figsize'] = [10,10]\n",
    "ax=df['age'].value_counts().plot(kind='bar',stacked=True, color= \"red\")\n",
    "ax.title.set_text('Distribution of Ages')\n",
    "plt.xlabel(\"Ages\",fontweight = 'bold')\n",
    "plt.ylabel(\"Count\",fontweight = 'bold')"
   ]
  },
  {
   "cell_type": "markdown",
   "metadata": {},
   "source": [
    "summary:\n",
    "- The proportion of 18 and 19 years old people is almost the double of the other ages;\n",
    "- Except by the ages of 18 and 19, the proportion of ages is very regular."
   ]
  },
  {
   "cell_type": "code",
   "execution_count": 114,
   "metadata": {
    "execution": {
     "iopub.execute_input": "2022-04-07T00:22:15.306847Z",
     "iopub.status.busy": "2022-04-07T00:22:15.306682Z",
     "iopub.status.idle": "2022-04-07T00:22:15.454693Z",
     "shell.execute_reply": "2022-04-07T00:22:15.453956Z",
     "shell.execute_reply.started": "2022-04-07T00:22:15.306826Z"
    }
   },
   "outputs": [
    {
     "data": {
      "text/plain": [
       "Text(0, 0.5, 'Count')"
      ]
     },
     "execution_count": 114,
     "metadata": {},
     "output_type": "execute_result"
    },
    {
     "data": {
      "image/png": "[encoded data removed]",
      "text/plain": [
       "<Figure size 504x504 with 1 Axes>"
      ]
     },
     "metadata": {
      "needs_background": "light"
     },
     "output_type": "display_data"
    }
   ],
   "source": [
    "# Analyzing the sex column\n",
    "plt.rcParams['figure.figsize'] = [7,7]\n",
    "ax=df['sex'].value_counts().plot(kind='bar',stacked=True, color= \"blue\")\n",
    "ax.title.set_text('Distribution of males and females')\n",
    "plt.xlabel(\"Sex\",fontweight = 'bold')\n",
    "plt.ylabel(\"Count\",fontweight = 'bold')"
   ]
  },
  {
   "cell_type": "markdown",
   "metadata": {},
   "source": [
    "summary:\n",
    "- There is almost the same number of males and females people"
   ]
  },
  {
   "cell_type": "code",
   "execution_count": 115,
   "metadata": {
    "execution": {
     "iopub.execute_input": "2022-04-07T00:22:15.455904Z",
     "iopub.status.busy": "2022-04-07T00:22:15.455721Z",
     "iopub.status.idle": "2022-04-07T00:22:15.693366Z",
     "shell.execute_reply": "2022-04-07T00:22:15.692648Z",
     "shell.execute_reply.started": "2022-04-07T00:22:15.455881Z"
    }
   },
   "outputs": [
    {
     "data": {
      "text/plain": [
       "<AxesSubplot:title={'center':'BMI Distribution'}, xlabel='bmi', ylabel='Count'>"
      ]
     },
     "execution_count": 115,
     "metadata": {},
     "output_type": "execute_result"
    },
    {
     "data": {
      "image/png": "[encoded data removed]",
      "text/plain": [
       "<Figure size 576x576 with 1 Axes>"
      ]
     },
     "metadata": {
      "needs_background": "light"
     },
     "output_type": "display_data"
    }
   ],
   "source": [
    "# Visualizing the distribution of bmi\n",
    "plt.figure(figsize=(8,8))\n",
    "\n",
    "plt.title('BMI Distribution')\n",
    "sns.histplot(df['bmi'])"
   ]
  },
  {
   "cell_type": "markdown",
   "metadata": {},
   "source": [
    "summary:\n",
    "- This curve is very similar to a normal distribution and very simetric also;\n",
    "- The mean of this bmi population seems to be around 30."
   ]
  },
  {
   "cell_type": "code",
   "execution_count": 116,
   "metadata": {
    "execution": {
     "iopub.execute_input": "2022-04-07T00:22:15.695335Z",
     "iopub.status.busy": "2022-04-07T00:22:15.695043Z",
     "iopub.status.idle": "2022-04-07T00:22:15.854484Z",
     "shell.execute_reply": "2022-04-07T00:22:15.853789Z",
     "shell.execute_reply.started": "2022-04-07T00:22:15.695302Z"
    }
   },
   "outputs": [
    {
     "data": {
      "text/plain": [
       "Text(0, 0.5, 'Count')"
      ]
     },
     "execution_count": 116,
     "metadata": {},
     "output_type": "execute_result"
    },
    {
     "data": {
      "image/png": "[encoded data removed]",
      "text/plain": [
       "<Figure size 504x504 with 1 Axes>"
      ]
     },
     "metadata": {
      "needs_background": "light"
     },
     "output_type": "display_data"
    }
   ],
   "source": [
    "# Analyzing the children column\n",
    "plt.rcParams['figure.figsize'] = [7,7]\n",
    "ax=df['children'].value_counts().plot(kind='bar',stacked=True, color= \"aqua\")\n",
    "ax.title.set_text('Number of children')\n",
    "plt.xlabel(\"Children\",fontweight = 'bold')\n",
    "plt.ylabel(\"Count\",fontweight = 'bold')"
   ]
  },
  {
   "cell_type": "markdown",
   "metadata": {},
   "source": [
    "summary:\n",
    "- Most of the people doesn't have children"
   ]
  },
  {
   "cell_type": "code",
   "execution_count": 117,
   "metadata": {
    "execution": {
     "iopub.execute_input": "2022-04-07T00:22:15.855627Z",
     "iopub.status.busy": "2022-04-07T00:22:15.855433Z",
     "iopub.status.idle": "2022-04-07T00:22:16.003639Z",
     "shell.execute_reply": "2022-04-07T00:22:16.003111Z",
     "shell.execute_reply.started": "2022-04-07T00:22:15.855583Z"
    }
   },
   "outputs": [
    {
     "data": {
      "text/plain": [
       "Text(0, 0.5, 'Count')"
      ]
     },
     "execution_count": 117,
     "metadata": {},
     "output_type": "execute_result"
    },
    {
     "data": {
      "image/png": "[encoded data removed]",
      "text/plain": [
       "<Figure size 504x504 with 1 Axes>"
      ]
     },
     "metadata": {
      "needs_background": "light"
     },
     "output_type": "display_data"
    }
   ],
   "source": [
    "# Analyzing the smoker column\n",
    "plt.rcParams['figure.figsize'] = [7,7]\n",
    "ax=df['smoker'].value_counts().plot(kind='bar',stacked=True, color= \"green\")\n",
    "ax.title.set_text('Distribution of smokers')\n",
    "plt.xlabel(\"Smokers\",fontweight = 'bold')\n",
    "plt.ylabel(\"Count\",fontweight = 'bold')"
   ]
  },
  {
   "cell_type": "markdown",
   "metadata": {},
   "source": [
    "summary:\n",
    "* Most of the people don't smoke"
   ]
  },
  {
   "cell_type": "code",
   "execution_count": 118,
   "metadata": {
    "execution": {
     "iopub.execute_input": "2022-04-07T00:22:16.005149Z",
     "iopub.status.busy": "2022-04-07T00:22:16.004703Z",
     "iopub.status.idle": "2022-04-07T00:22:16.341144Z",
     "shell.execute_reply": "2022-04-07T00:22:16.340555Z",
     "shell.execute_reply.started": "2022-04-07T00:22:16.005063Z"
    }
   },
   "outputs": [
    {
     "data": {
      "text/plain": [
       "Text(0, 0.5, 'Count')"
      ]
     },
     "execution_count": 118,
     "metadata": {},
     "output_type": "execute_result"
    },
    {
     "data": {
      "image/png": "[encoded data removed]",
      "text/plain": [
       "<Figure size 504x504 with 1 Axes>"
      ]
     },
     "metadata": {
      "needs_background": "light"
     },
     "output_type": "display_data"
    }
   ],
   "source": [
    "# Analyzing the region column\n",
    "plt.rcParams['figure.figsize'] = [7,7]\n",
    "ax=df['region'].value_counts().plot(kind='bar',stacked=True, color= \"purple\")\n",
    "ax.title.set_text('Distribution of the regions')\n",
    "plt.xlabel(\"Regions\",fontweight = 'bold')\n",
    "plt.ylabel(\"Count\",fontweight = 'bold')"
   ]
  },
  {
   "cell_type": "markdown",
   "metadata": {},
   "source": [
    "summary:\n",
    "* It seems very regular the distribution of the regions where the people live"
   ]
  },
  {
   "cell_type": "code",
   "execution_count": 119,
   "metadata": {},
   "outputs": [
    {
     "data": {
      "image/png": "[encoded data removed]",
      "text/plain": [
       "<Figure size 720x720 with 20 Axes>"
      ]
     },
     "metadata": {
      "needs_background": "light"
     },
     "output_type": "display_data"
    }
   ],
   "source": [
    "dist = sns.pairplot(df[num_col])"
   ]
  },
  {
   "cell_type": "markdown",
   "metadata": {},
   "source": [
    "Insights:\n",
    "* The number of children seems to have poor correlation with the medical costs;\n",
    "* The age of the person and its BMI have little correlation."
   ]
  },
  {
   "cell_type": "code",
   "execution_count": 120,
   "metadata": {
    "execution": {
     "iopub.execute_input": "2022-04-07T00:22:19.721536Z",
     "iopub.status.busy": "2022-04-07T00:22:19.721358Z",
     "iopub.status.idle": "2022-04-07T00:22:19.73507Z",
     "shell.execute_reply": "2022-04-07T00:22:19.73424Z",
     "shell.execute_reply.started": "2022-04-07T00:22:19.721513Z"
    }
   },
   "outputs": [
    {
     "data": {
      "text/plain": [
       "charges     1.000000\n",
       "age         0.299008\n",
       "bmi         0.198341\n",
       "children    0.067998\n",
       "sex         0.057292\n",
       "region      0.006208\n",
       "smoker     -0.787251\n",
       "Name: charges, dtype: float64"
      ]
     },
     "execution_count": 120,
     "metadata": {},
     "output_type": "execute_result"
    }
   ],
   "source": [
    "df_corr = df.copy()\n",
    "df_corr['sex'] = pd.factorize(df_corr['sex'])[0] + 1\n",
    "df_corr['region'] = pd.factorize(df_corr['region'])[0] + 1\n",
    "df_corr['smoker'] = pd.factorize(df_corr['smoker'])[0] + 1\n",
    "corr = df_corr.corr()\n",
    "corr['charges'].sort_values(ascending=False)"
   ]
  },
  {
   "cell_type": "markdown",
   "metadata": {},
   "source": [
    "Summarize:\n",
    "* As we observe, the number of children, sex and region has poor correlation, so they will be dropped from the model;\n",
    "* The smoker column has a strong inverse correlation with the medical costs."
   ]
  },
  {
   "cell_type": "markdown",
   "metadata": {},
   "source": [
    "### Data Transformation"
   ]
  },
  {
   "cell_type": "markdown",
   "metadata": {},
   "source": [
    "#### Dropping the columns\n",
    "As verified earlier, the children, sex and region columns have a poor correlation with the charges column, so they will be removed from our model."
   ]
  },
  {
   "cell_type": "code",
   "execution_count": 121,
   "metadata": {
    "execution": {
     "iopub.execute_input": "2022-04-07T00:22:19.736717Z",
     "iopub.status.busy": "2022-04-07T00:22:19.736527Z",
     "iopub.status.idle": "2022-04-07T00:22:19.743Z",
     "shell.execute_reply": "2022-04-07T00:22:19.742171Z",
     "shell.execute_reply.started": "2022-04-07T00:22:19.736696Z"
    }
   },
   "outputs": [],
   "source": [
    "df = df.drop(['children', 'sex', 'region'], axis = 1)"
   ]
  },
  {
   "cell_type": "markdown",
   "metadata": {},
   "source": [
    "#### Convert the categorical data"
   ]
  },
  {
   "cell_type": "code",
   "execution_count": 122,
   "metadata": {
    "execution": {
     "iopub.execute_input": "2022-04-07T00:22:19.743971Z",
     "iopub.status.busy": "2022-04-07T00:22:19.74381Z",
     "iopub.status.idle": "2022-04-07T00:22:19.760274Z",
     "shell.execute_reply": "2022-04-07T00:22:19.759422Z",
     "shell.execute_reply.started": "2022-04-07T00:22:19.743952Z"
    },
    "scrolled": true
   },
   "outputs": [
    {
     "name": "stdout",
     "output_type": "stream",
     "text": [
      "<class 'pandas.core.frame.DataFrame'>\n",
      "RangeIndex: 1338 entries, 0 to 1337\n",
      "Data columns (total 4 columns):\n",
      " #   Column   Non-Null Count  Dtype  \n",
      "---  ------   --------------  -----  \n",
      " 0   age      1338 non-null   int64  \n",
      " 1   bmi      1338 non-null   float64\n",
      " 2   smoker   1338 non-null   int64  \n",
      " 3   charges  1338 non-null   float64\n",
      "dtypes: float64(2), int64(2)\n",
      "memory usage: 41.9 KB\n"
     ]
    }
   ],
   "source": [
    "#transforming the categorical value\n",
    "df['smoker'] = pd.factorize(df['smoker'])[0]\n",
    "df.info()"
   ]
  },
  {
   "cell_type": "markdown",
   "metadata": {},
   "source": [
    "## **Section 3** -  Modeling"
   ]
  },
  {
   "cell_type": "markdown",
   "metadata": {},
   "source": [
    "In this project, we use four models to predict medical costs. Firstly, we used OLS regression and explore the cases of controlling for covariates and not controlling for covariates. Then we used other two complicated models to make prediction. We refer to two literatures. Kuo et. al.(2018) compared several machine learning algorithms for prediction of medical costs. This article mainly discussed the classification problem. We tried several methods, and according to the model performance, we decided to use random forest. In addition, we also learned from an article related to ensemble methods. Shakhovska et. al.(2021) studied ensemble methods for medical insurance costs prediction. The ensemble methods is an important module in python *sklearn*. Referring to the statistical results of the article, we chose the stacking method. The stacking regressor is developed using Ridge Regression and Support Vector Regression (SVR). The random forest (RF) algorithm is used to combine the predictions. To evaluate the accuracy of models, we used R squared score, root mean squared error (RMSE), mean absolute error (MAE), and mean absolute percentage error (MAPE)."
   ]
  },
  {
   "cell_type": "markdown",
   "metadata": {},
   "source": [
    "#### Get the dependent and independent variables"
   ]
  },
  {
   "cell_type": "code",
   "execution_count": 123,
   "metadata": {
    "execution": {
     "iopub.execute_input": "2022-04-07T00:22:19.761338Z",
     "iopub.status.busy": "2022-04-07T00:22:19.761184Z",
     "iopub.status.idle": "2022-04-07T00:22:19.768134Z",
     "shell.execute_reply": "2022-04-07T00:22:19.767412Z",
     "shell.execute_reply.started": "2022-04-07T00:22:19.761318Z"
    }
   },
   "outputs": [],
   "source": [
    "#Separate the dependent and independent values\n",
    "y = df.loc[:, ['charges']].values\n",
    "X = df.drop(columns=['charges'])"
   ]
  },
  {
   "cell_type": "markdown",
   "metadata": {},
   "source": [
    "### 3.1 OLS Model - Control for covariates"
   ]
  },
  {
   "cell_type": "code",
   "execution_count": 124,
   "metadata": {},
   "outputs": [
    {
     "data": {
      "text/html": [
       "<table class=\"simpletable\">\n",
       "<caption>OLS Regression Results</caption>\n",
       "<tr>\n",
       "  <th>Dep. Variable:</th>         <td>charges</td>     <th>  R-squared:         </th> <td>   0.747</td> \n",
       "</tr>\n",
       "<tr>\n",
       "  <th>Model:</th>                   <td>OLS</td>       <th>  Adj. R-squared:    </th> <td>   0.747</td> \n",
       "</tr>\n",
       "<tr>\n",
       "  <th>Method:</th>             <td>Least Squares</td>  <th>  F-statistic:       </th> <td>   1316.</td> \n",
       "</tr>\n",
       "<tr>\n",
       "  <th>Date:</th>             <td>Thu, 05 May 2022</td> <th>  Prob (F-statistic):</th>  <td>  0.00</td>  \n",
       "</tr>\n",
       "<tr>\n",
       "  <th>Time:</th>                 <td>17:39:31</td>     <th>  Log-Likelihood:    </th> <td> -13557.</td> \n",
       "</tr>\n",
       "<tr>\n",
       "  <th>No. Observations:</th>      <td>  1338</td>      <th>  AIC:               </th> <td>2.712e+04</td>\n",
       "</tr>\n",
       "<tr>\n",
       "  <th>Df Residuals:</th>          <td>  1334</td>      <th>  BIC:               </th> <td>2.714e+04</td>\n",
       "</tr>\n",
       "<tr>\n",
       "  <th>Df Model:</th>              <td>     3</td>      <th>                     </th>     <td> </td>    \n",
       "</tr>\n",
       "<tr>\n",
       "  <th>Covariance Type:</th>      <td>nonrobust</td>    <th>                     </th>     <td> </td>    \n",
       "</tr>\n",
       "</table>\n",
       "<table class=\"simpletable\">\n",
       "<tr>\n",
       "         <td></td>           <th>coef</th>     <th>std err</th>      <th>t</th>      <th>P>|t|</th>  <th>[0.025</th>    <th>0.975]</th>  \n",
       "</tr>\n",
       "<tr>\n",
       "  <th>Intercept</th>      <td> 1.215e+04</td> <td>  987.085</td> <td>   12.306</td> <td> 0.000</td> <td> 1.02e+04</td> <td> 1.41e+04</td>\n",
       "</tr>\n",
       "<tr>\n",
       "  <th>C(smoker)[T.1]</th> <td>-2.382e+04</td> <td>  412.867</td> <td>  -57.703</td> <td> 0.000</td> <td>-2.46e+04</td> <td> -2.3e+04</td>\n",
       "</tr>\n",
       "<tr>\n",
       "  <th>bmi</th>            <td>  322.6151</td> <td>   27.487</td> <td>   11.737</td> <td> 0.000</td> <td>  268.692</td> <td>  376.538</td>\n",
       "</tr>\n",
       "<tr>\n",
       "  <th>age</th>            <td>  259.5475</td> <td>   11.934</td> <td>   21.748</td> <td> 0.000</td> <td>  236.136</td> <td>  282.959</td>\n",
       "</tr>\n",
       "</table>\n",
       "<table class=\"simpletable\">\n",
       "<tr>\n",
       "  <th>Omnibus:</th>       <td>299.709</td> <th>  Durbin-Watson:     </th> <td>   2.077</td> \n",
       "</tr>\n",
       "<tr>\n",
       "  <th>Prob(Omnibus):</th> <td> 0.000</td>  <th>  Jarque-Bera (JB):  </th> <td> 710.137</td> \n",
       "</tr>\n",
       "<tr>\n",
       "  <th>Skew:</th>          <td> 1.213</td>  <th>  Prob(JB):          </th> <td>6.25e-155</td>\n",
       "</tr>\n",
       "<tr>\n",
       "  <th>Kurtosis:</th>      <td> 5.618</td>  <th>  Cond. No.          </th> <td>    307.</td> \n",
       "</tr>\n",
       "</table><br/><br/>Notes:<br/>[1] Standard Errors assume that the covariance matrix of the errors is correctly specified."
      ],
      "text/plain": [
       "<class 'statsmodels.iolib.summary.Summary'>\n",
       "\"\"\"\n",
       "                            OLS Regression Results                            \n",
       "==============================================================================\n",
       "Dep. Variable:                charges   R-squared:                       0.747\n",
       "Model:                            OLS   Adj. R-squared:                  0.747\n",
       "Method:                 Least Squares   F-statistic:                     1316.\n",
       "Date:                Thu, 05 May 2022   Prob (F-statistic):               0.00\n",
       "Time:                        17:39:31   Log-Likelihood:                -13557.\n",
       "No. Observations:                1338   AIC:                         2.712e+04\n",
       "Df Residuals:                    1334   BIC:                         2.714e+04\n",
       "Df Model:                           3                                         \n",
       "Covariance Type:            nonrobust                                         \n",
       "==================================================================================\n",
       "                     coef    std err          t      P>|t|      [0.025      0.975]\n",
       "----------------------------------------------------------------------------------\n",
       "Intercept       1.215e+04    987.085     12.306      0.000    1.02e+04    1.41e+04\n",
       "C(smoker)[T.1] -2.382e+04    412.867    -57.703      0.000   -2.46e+04    -2.3e+04\n",
       "bmi              322.6151     27.487     11.737      0.000     268.692     376.538\n",
       "age              259.5475     11.934     21.748      0.000     236.136     282.959\n",
       "==============================================================================\n",
       "Omnibus:                      299.709   Durbin-Watson:                   2.077\n",
       "Prob(Omnibus):                  0.000   Jarque-Bera (JB):              710.137\n",
       "Skew:                           1.213   Prob(JB):                    6.25e-155\n",
       "Kurtosis:                       5.618   Cond. No.                         307.\n",
       "==============================================================================\n",
       "\n",
       "Notes:\n",
       "[1] Standard Errors assume that the covariance matrix of the errors is correctly specified.\n",
       "\"\"\""
      ]
     },
     "execution_count": 124,
     "metadata": {},
     "output_type": "execute_result"
    }
   ],
   "source": [
    "from statsmodels.formula.api import ols\n",
    "fit = ols('charges ~ C(smoker) + bmi + age', data=df).fit() \n",
    "fit.summary()"
   ]
  },
  {
   "cell_type": "markdown",
   "metadata": {},
   "source": [
    "####  Get the train and test data set"
   ]
  },
  {
   "cell_type": "code",
   "execution_count": 125,
   "metadata": {
    "execution": {
     "iopub.execute_input": "2022-04-07T00:22:19.769101Z",
     "iopub.status.busy": "2022-04-07T00:22:19.768935Z",
     "iopub.status.idle": "2022-04-07T00:22:19.779546Z",
     "shell.execute_reply": "2022-04-07T00:22:19.778765Z",
     "shell.execute_reply.started": "2022-04-07T00:22:19.769077Z"
    }
   },
   "outputs": [],
   "source": [
    "X_train, X_test, y_train, y_test = train_test_split(X, y, test_size = 0.2, random_state = 0)"
   ]
  },
  {
   "cell_type": "markdown",
   "metadata": {},
   "source": [
    "#### Fit the Linear Regression Model"
   ]
  },
  {
   "cell_type": "code",
   "execution_count": 126,
   "metadata": {},
   "outputs": [
    {
     "data": {
      "text/plain": [
       "LinearRegression()"
      ]
     },
     "execution_count": 126,
     "metadata": {},
     "output_type": "execute_result"
    }
   ],
   "source": [
    "from sklearn.linear_model import LinearRegression\n",
    "# creating an object of LinearRegression class\n",
    "regressor = LinearRegression()\n",
    "# fitting the training data\n",
    "regressor.fit(X_train,y_train)"
   ]
  },
  {
   "cell_type": "markdown",
   "metadata": {},
   "source": [
    "#### Make prediction"
   ]
  },
  {
   "cell_type": "code",
   "execution_count": 127,
   "metadata": {},
   "outputs": [],
   "source": [
    "y_pred1 = regressor.predict(X_test)"
   ]
  },
  {
   "cell_type": "markdown",
   "metadata": {},
   "source": [
    "#### Evaluate accuracy"
   ]
  },
  {
   "cell_type": "code",
   "execution_count": 157,
   "metadata": {},
   "outputs": [
    {
     "name": "stdout",
     "output_type": "stream",
     "text": [
      "r2 socre = 0.7945500805653086\n",
      "RMSE = 5717.800096079452\n",
      "MAE = 3960.866619808715\n",
      "MAPE = 0.41079051705728437\n"
     ]
    }
   ],
   "source": [
    "# Evaluating the accuracy score\n",
    "print('r2 socre =',r2_score(y_test,y_pred1))\n",
    "print('RMSE =',np.sqrt(mean_squared_error(y_test,y_pred1)))\n",
    "print('MAE =',mean_absolute_error(y_test,y_pred1))\n",
    "print('MAPE =',mean_absolute_percentage_error(y_test,y_pred1))"
   ]
  },
  {
   "cell_type": "code",
   "execution_count": 129,
   "metadata": {},
   "outputs": [
    {
     "data": {
      "text/plain": [
       "array([[   257.04066602,    321.83997719, -23625.23448834]])"
      ]
     },
     "execution_count": 129,
     "metadata": {},
     "output_type": "execute_result"
    }
   ],
   "source": [
    "regressor.coef_"
   ]
  },
  {
   "cell_type": "code",
   "execution_count": 130,
   "metadata": {},
   "outputs": [
    {
     "data": {
      "text/plain": [
       "array([12053.3264715])"
      ]
     },
     "execution_count": 130,
     "metadata": {},
     "output_type": "execute_result"
    }
   ],
   "source": [
    "regressor.intercept_"
   ]
  },
  {
   "cell_type": "markdown",
   "metadata": {},
   "source": [
    "**Creating a label to show the equations**:\n",
    "\n",
    "$ x_{1} $ = Age\n",
    "\n",
    "$ x_{2} $ = BMI\n",
    "\n",
    "$d$ = Dummy variable to represent if the person is a smoker (inverted the signal to be easier to interpret)\n",
    "\n",
    "$y$ = Medical charges\n",
    "\n",
    "So, the equation is:\n",
    "\n",
    "$y = 12053.33 + 257.04x_{1} + 321.84x_{2} + 23625.23d$"
   ]
  },
  {
   "cell_type": "markdown",
   "metadata": {},
   "source": [
    "### 3.2 OLS Model - Do not control for covariates"
   ]
  },
  {
   "cell_type": "code",
   "execution_count": 131,
   "metadata": {},
   "outputs": [
    {
     "data": {
      "text/html": [
       "<div>\n",
       "<style scoped>\n",
       "    .dataframe tbody tr th:only-of-type {\n",
       "        vertical-align: middle;\n",
       "    }\n",
       "\n",
       "    .dataframe tbody tr th {\n",
       "        vertical-align: top;\n",
       "    }\n",
       "\n",
       "    .dataframe thead th {\n",
       "        text-align: right;\n",
       "    }\n",
       "</style>\n",
       "<table border=\"1\" class=\"dataframe\">\n",
       "  <thead>\n",
       "    <tr style=\"text-align: right;\">\n",
       "      <th></th>\n",
       "      <th>bmi</th>\n",
       "      <th>smoker</th>\n",
       "      <th>charges</th>\n",
       "    </tr>\n",
       "  </thead>\n",
       "  <tbody>\n",
       "    <tr>\n",
       "      <th>0</th>\n",
       "      <td>27.900</td>\n",
       "      <td>0</td>\n",
       "      <td>16884.92400</td>\n",
       "    </tr>\n",
       "    <tr>\n",
       "      <th>1</th>\n",
       "      <td>33.770</td>\n",
       "      <td>1</td>\n",
       "      <td>1725.55230</td>\n",
       "    </tr>\n",
       "    <tr>\n",
       "      <th>2</th>\n",
       "      <td>33.000</td>\n",
       "      <td>1</td>\n",
       "      <td>4449.46200</td>\n",
       "    </tr>\n",
       "    <tr>\n",
       "      <th>3</th>\n",
       "      <td>22.705</td>\n",
       "      <td>1</td>\n",
       "      <td>21984.47061</td>\n",
       "    </tr>\n",
       "    <tr>\n",
       "      <th>4</th>\n",
       "      <td>28.880</td>\n",
       "      <td>1</td>\n",
       "      <td>3866.85520</td>\n",
       "    </tr>\n",
       "    <tr>\n",
       "      <th>...</th>\n",
       "      <td>...</td>\n",
       "      <td>...</td>\n",
       "      <td>...</td>\n",
       "    </tr>\n",
       "    <tr>\n",
       "      <th>1333</th>\n",
       "      <td>30.970</td>\n",
       "      <td>1</td>\n",
       "      <td>10600.54830</td>\n",
       "    </tr>\n",
       "    <tr>\n",
       "      <th>1334</th>\n",
       "      <td>31.920</td>\n",
       "      <td>1</td>\n",
       "      <td>2205.98080</td>\n",
       "    </tr>\n",
       "    <tr>\n",
       "      <th>1335</th>\n",
       "      <td>36.850</td>\n",
       "      <td>1</td>\n",
       "      <td>1629.83350</td>\n",
       "    </tr>\n",
       "    <tr>\n",
       "      <th>1336</th>\n",
       "      <td>25.800</td>\n",
       "      <td>1</td>\n",
       "      <td>2007.94500</td>\n",
       "    </tr>\n",
       "    <tr>\n",
       "      <th>1337</th>\n",
       "      <td>29.070</td>\n",
       "      <td>0</td>\n",
       "      <td>29141.36030</td>\n",
       "    </tr>\n",
       "  </tbody>\n",
       "</table>\n",
       "<p>1338 rows × 3 columns</p>\n",
       "</div>"
      ],
      "text/plain": [
       "         bmi  smoker      charges\n",
       "0     27.900       0  16884.92400\n",
       "1     33.770       1   1725.55230\n",
       "2     33.000       1   4449.46200\n",
       "3     22.705       1  21984.47061\n",
       "4     28.880       1   3866.85520\n",
       "...      ...     ...          ...\n",
       "1333  30.970       1  10600.54830\n",
       "1334  31.920       1   2205.98080\n",
       "1335  36.850       1   1629.83350\n",
       "1336  25.800       1   2007.94500\n",
       "1337  29.070       0  29141.36030\n",
       "\n",
       "[1338 rows x 3 columns]"
      ]
     },
     "execution_count": 131,
     "metadata": {},
     "output_type": "execute_result"
    }
   ],
   "source": [
    "df1 = df.drop(['age'], axis = 1)\n",
    "df1"
   ]
  },
  {
   "cell_type": "code",
   "execution_count": 132,
   "metadata": {},
   "outputs": [],
   "source": [
    "y = df1.loc[:, ['charges']].values\n",
    "X1 = df1.drop(columns=['charges'])"
   ]
  },
  {
   "cell_type": "code",
   "execution_count": 133,
   "metadata": {},
   "outputs": [],
   "source": [
    "X1_train, X1_test, y_train, y_test = train_test_split(X1, y, test_size = 0.2, random_state = 0)"
   ]
  },
  {
   "cell_type": "code",
   "execution_count": 134,
   "metadata": {},
   "outputs": [
    {
     "data": {
      "text/plain": [
       "LinearRegression()"
      ]
     },
     "execution_count": 134,
     "metadata": {},
     "output_type": "execute_result"
    }
   ],
   "source": [
    "from sklearn.linear_model import LinearRegression\n",
    "# creating an object of LinearRegression class\n",
    "LR = LinearRegression()\n",
    "# fitting the training data\n",
    "LR.fit(X1_train,y_train)"
   ]
  },
  {
   "cell_type": "code",
   "execution_count": 135,
   "metadata": {},
   "outputs": [],
   "source": [
    "y_pred2 =  LR.predict(X1_test)"
   ]
  },
  {
   "cell_type": "code",
   "execution_count": 158,
   "metadata": {
    "scrolled": true
   },
   "outputs": [
    {
     "name": "stdout",
     "output_type": "stream",
     "text": [
      "r2 socre = 0.705918476607126\n",
      "RMSE = 6840.846565823658\n",
      "MAE = 5213.98544168031\n",
      "MAPE = 0.8084366400697199\n"
     ]
    }
   ],
   "source": [
    "# predicting the accuracy score\n",
    "print('r2 socre =',r2_score(y_test,y_pred2))\n",
    "print('RMSE =',np.sqrt(mean_squared_error(y_test,y_pred2)))\n",
    "print('MAE =',mean_absolute_error(y_test,y_pred2))\n",
    "print('MAPE =',mean_absolute_percentage_error(y_test,y_pred2))"
   ]
  },
  {
   "cell_type": "code",
   "execution_count": 137,
   "metadata": {},
   "outputs": [
    {
     "data": {
      "text/plain": [
       "array([[   386.94616325, -23187.3567059 ]])"
      ]
     },
     "execution_count": 137,
     "metadata": {},
     "output_type": "execute_result"
    }
   ],
   "source": [
    "LR.coef_"
   ]
  },
  {
   "cell_type": "code",
   "execution_count": 138,
   "metadata": {
    "scrolled": true
   },
   "outputs": [
    {
     "data": {
      "text/plain": [
       "array([19752.61188429])"
      ]
     },
     "execution_count": 138,
     "metadata": {},
     "output_type": "execute_result"
    }
   ],
   "source": [
    "LR.intercept_"
   ]
  },
  {
   "cell_type": "code",
   "execution_count": 139,
   "metadata": {
    "execution": {
     "iopub.execute_input": "2022-04-07T00:22:19.859661Z",
     "iopub.status.busy": "2022-04-07T00:22:19.859438Z",
     "iopub.status.idle": "2022-04-07T00:22:19.870349Z",
     "shell.execute_reply": "2022-04-07T00:22:19.869376Z",
     "shell.execute_reply.started": "2022-04-07T00:22:19.859628Z"
    }
   },
   "outputs": [
    {
     "data": {
      "text/html": [
       "<div>\n",
       "<style scoped>\n",
       "    .dataframe tbody tr th:only-of-type {\n",
       "        vertical-align: middle;\n",
       "    }\n",
       "\n",
       "    .dataframe tbody tr th {\n",
       "        vertical-align: top;\n",
       "    }\n",
       "\n",
       "    .dataframe thead th {\n",
       "        text-align: right;\n",
       "    }\n",
       "</style>\n",
       "<table border=\"1\" class=\"dataframe\">\n",
       "  <thead>\n",
       "    <tr style=\"text-align: right;\">\n",
       "      <th></th>\n",
       "      <th>age</th>\n",
       "      <th>bmi</th>\n",
       "      <th>smoker</th>\n",
       "      <th>charges</th>\n",
       "    </tr>\n",
       "  </thead>\n",
       "  <tbody>\n",
       "    <tr>\n",
       "      <th>0</th>\n",
       "      <td>19</td>\n",
       "      <td>27.900</td>\n",
       "      <td>0</td>\n",
       "      <td>16884.92400</td>\n",
       "    </tr>\n",
       "    <tr>\n",
       "      <th>1</th>\n",
       "      <td>18</td>\n",
       "      <td>33.770</td>\n",
       "      <td>1</td>\n",
       "      <td>1725.55230</td>\n",
       "    </tr>\n",
       "    <tr>\n",
       "      <th>2</th>\n",
       "      <td>28</td>\n",
       "      <td>33.000</td>\n",
       "      <td>1</td>\n",
       "      <td>4449.46200</td>\n",
       "    </tr>\n",
       "    <tr>\n",
       "      <th>3</th>\n",
       "      <td>33</td>\n",
       "      <td>22.705</td>\n",
       "      <td>1</td>\n",
       "      <td>21984.47061</td>\n",
       "    </tr>\n",
       "    <tr>\n",
       "      <th>4</th>\n",
       "      <td>32</td>\n",
       "      <td>28.880</td>\n",
       "      <td>1</td>\n",
       "      <td>3866.85520</td>\n",
       "    </tr>\n",
       "  </tbody>\n",
       "</table>\n",
       "</div>"
      ],
      "text/plain": [
       "   age     bmi  smoker      charges\n",
       "0   19  27.900       0  16884.92400\n",
       "1   18  33.770       1   1725.55230\n",
       "2   28  33.000       1   4449.46200\n",
       "3   33  22.705       1  21984.47061\n",
       "4   32  28.880       1   3866.85520"
      ]
     },
     "execution_count": 139,
     "metadata": {},
     "output_type": "execute_result"
    }
   ],
   "source": [
    "# Visualizing once again the data set\n",
    "df.head()"
   ]
  },
  {
   "cell_type": "markdown",
   "metadata": {},
   "source": [
    "**Creating a label to show the equations**:\n",
    "\n",
    "$ x_{1} $ = BMI\n",
    "\n",
    "$d$ = Dummy variable to represent if the person is a smoker (inverted the signal to be easier to interpret)\n",
    "\n",
    "$y$ = Medical charges\n",
    "\n",
    "So, the equation is:\n",
    "\n",
    "$y = 19752.61 + 386.95 x_{1} + 23187.35d$"
   ]
  },
  {
   "cell_type": "markdown",
   "metadata": {},
   "source": [
    "### 3.3 Random Forest"
   ]
  },
  {
   "cell_type": "code",
   "execution_count": 140,
   "metadata": {},
   "outputs": [],
   "source": [
    "#Separate the dependent and independent values\n",
    "y = df.loc[:, ['charges']].values\n",
    "X = df.drop(columns=['charges'])\n",
    "#Get the train and test data set\n",
    "X_train, X_test, y_train, y_test = train_test_split(X, y, test_size = 0.2, random_state = 0)"
   ]
  },
  {
   "cell_type": "code",
   "execution_count": 141,
   "metadata": {},
   "outputs": [
    {
     "name": "stderr",
     "output_type": "stream",
     "text": [
      "/var/folders/bx/6bx3kxkj3h1cz3k5xxlrgfj80000gn/T/ipykernel_1672/3300557753.py:3: DataConversionWarning: A column-vector y was passed when a 1d array was expected. Please change the shape of y to (n_samples,), for example using ravel().\n",
      "  rf.fit(X_train, y_train)\n"
     ]
    },
    {
     "data": {
      "text/plain": [
       "RandomForestRegressor()"
      ]
     },
     "execution_count": 141,
     "metadata": {},
     "output_type": "execute_result"
    }
   ],
   "source": [
    "from sklearn.ensemble import RandomForestRegressor\n",
    "rf = RandomForestRegressor()\n",
    "rf.fit(X_train, y_train)"
   ]
  },
  {
   "cell_type": "code",
   "execution_count": 142,
   "metadata": {},
   "outputs": [],
   "source": [
    "y_pred3 = rf.predict(X_test)"
   ]
  },
  {
   "cell_type": "code",
   "execution_count": 143,
   "metadata": {},
   "outputs": [
    {
     "name": "stdout",
     "output_type": "stream",
     "text": [
      "r2 socre = 0.8566196063999679\n",
      "RMSE = 4776.621884899897\n",
      "MAE = 2757.58610206617\n",
      "MAPE = 0.38839749953193725\n"
     ]
    }
   ],
   "source": [
    "# predicting the accuracy score\n",
    "print('r2 socre =',r2_score(y_test,y_pred3))\n",
    "print('RMSE =',np.sqrt(mean_squared_error(y_test,y_pred3)))\n",
    "print('MAE =',mean_absolute_error(y_test,y_pred3))\n",
    "print('MAPE =',mean_absolute_percentage_error(y_test,y_pred3))"
   ]
  },
  {
   "cell_type": "markdown",
   "metadata": {},
   "source": [
    "### 3.4 Stacking"
   ]
  },
  {
   "cell_type": "code",
   "execution_count": 144,
   "metadata": {},
   "outputs": [],
   "source": [
    "#Separate the dependent and independent values\n",
    "y = df.loc[:, ['charges']].values\n",
    "X = df.drop(columns=['charges'])\n",
    "#Get the train and test data set\n",
    "X_train, X_test, y_train, y_test = train_test_split(X, y, test_size = 0.2, random_state = 0)"
   ]
  },
  {
   "cell_type": "code",
   "execution_count": 152,
   "metadata": {},
   "outputs": [
    {
     "name": "stderr",
     "output_type": "stream",
     "text": [
      "/Users/anaconda3/lib/python3.9/site-packages/sklearn/ensemble/_stacking.py:754: DataConversionWarning: A column-vector y was passed when a 1d array was expected. Please change the shape of y to (n_samples, ), for example using ravel().\n",
      "  y = column_or_1d(y, warn=True)\n"
     ]
    },
    {
     "data": {
      "text/plain": [
       "StackingRegressor(estimators=[('lr', Ridge()), ('svr', LinearSVR())],\n",
       "                  final_estimator=RandomForestRegressor())"
      ]
     },
     "execution_count": 152,
     "metadata": {},
     "output_type": "execute_result"
    }
   ],
   "source": [
    "from sklearn.linear_model import Ridge\n",
    "from sklearn.svm import LinearSVR\n",
    "from sklearn.ensemble import RandomForestRegressor\n",
    "from sklearn.ensemble import StackingRegressor\n",
    "estimators = [('lr', Ridge()), ('svr', LinearSVR())]\n",
    "stacking = StackingRegressor(estimators=estimators, final_estimator=RandomForestRegressor())\n",
    "stacking.fit(X_train, y_train)"
   ]
  },
  {
   "cell_type": "code",
   "execution_count": 153,
   "metadata": {},
   "outputs": [],
   "source": [
    "y_pred4 = stacking.predict(X_test)"
   ]
  },
  {
   "cell_type": "code",
   "execution_count": 154,
   "metadata": {},
   "outputs": [
    {
     "name": "stdout",
     "output_type": "stream",
     "text": [
      "r2 socre = 0.8578751154421188\n",
      "RMSE = 4755.662679872499\n",
      "MAE = 2748.9020366797254\n",
      "MAPE = 0.334311073961447\n"
     ]
    }
   ],
   "source": [
    "# predicting the accuracy score\n",
    "print('r2 socre =',r2_score(y_test,y_pred4))\n",
    "print('RMSE =',np.sqrt(mean_squared_error(y_test,y_pred4)))\n",
    "print('MAE =',mean_absolute_error(y_test,y_pred4))\n",
    "print('MAPE =',mean_absolute_percentage_error(y_test,y_pred4))"
   ]
  },
  {
   "cell_type": "markdown",
   "metadata": {},
   "source": [
    "## **Section 4** - Findings"
   ]
  },
  {
   "cell_type": "markdown",
   "metadata": {},
   "source": [
    "#### Make a table of accuracy indicators"
   ]
  },
  {
   "cell_type": "code",
   "execution_count": 156,
   "metadata": {},
   "outputs": [
    {
     "data": {
      "text/html": [
       "<div>\n",
       "<style scoped>\n",
       "    .dataframe tbody tr th:only-of-type {\n",
       "        vertical-align: middle;\n",
       "    }\n",
       "\n",
       "    .dataframe tbody tr th {\n",
       "        vertical-align: top;\n",
       "    }\n",
       "\n",
       "    .dataframe thead th {\n",
       "        text-align: right;\n",
       "    }\n",
       "</style>\n",
       "<table border=\"1\" class=\"dataframe\">\n",
       "  <thead>\n",
       "    <tr style=\"text-align: right;\">\n",
       "      <th></th>\n",
       "      <th>R-squared</th>\n",
       "      <th>RMSE</th>\n",
       "      <th>MAE</th>\n",
       "      <th>MAPE</th>\n",
       "    </tr>\n",
       "  </thead>\n",
       "  <tbody>\n",
       "    <tr>\n",
       "      <th>OLS-Control for covariates</th>\n",
       "      <td>0.794550</td>\n",
       "      <td>5717.800096</td>\n",
       "      <td>3960.866620</td>\n",
       "      <td>0.410791</td>\n",
       "    </tr>\n",
       "    <tr>\n",
       "      <th>OLS-Do not control for covariates</th>\n",
       "      <td>0.705918</td>\n",
       "      <td>6840.846566</td>\n",
       "      <td>5213.985442</td>\n",
       "      <td>0.808437</td>\n",
       "    </tr>\n",
       "    <tr>\n",
       "      <th>Random Forest</th>\n",
       "      <td>0.856620</td>\n",
       "      <td>4776.621885</td>\n",
       "      <td>2757.586102</td>\n",
       "      <td>0.388398</td>\n",
       "    </tr>\n",
       "    <tr>\n",
       "      <th>Stacking</th>\n",
       "      <td>0.857875</td>\n",
       "      <td>4755.662680</td>\n",
       "      <td>2748.902037</td>\n",
       "      <td>0.334311</td>\n",
       "    </tr>\n",
       "  </tbody>\n",
       "</table>\n",
       "</div>"
      ],
      "text/plain": [
       "                                   R-squared         RMSE          MAE  \\\n",
       "OLS-Control for covariates          0.794550  5717.800096  3960.866620   \n",
       "OLS-Do not control for covariates   0.705918  6840.846566  5213.985442   \n",
       "Random Forest                       0.856620  4776.621885  2757.586102   \n",
       "Stacking                            0.857875  4755.662680  2748.902037   \n",
       "\n",
       "                                       MAPE  \n",
       "OLS-Control for covariates         0.410791  \n",
       "OLS-Do not control for covariates  0.808437  \n",
       "Random Forest                      0.388398  \n",
       "Stacking                           0.334311  "
      ]
     },
     "execution_count": 156,
     "metadata": {},
     "output_type": "execute_result"
    }
   ],
   "source": [
    "r2 = []\n",
    "rmse = []\n",
    "mae = []\n",
    "mape = []\n",
    "y_pred = [y_pred1, y_pred2, y_pred3, y_pred4]\n",
    "\n",
    "for i in range(4):\n",
    "    r2.append(round(r2_score(y_test,y_pred[i]),8))\n",
    "    rmse.append(round(np.sqrt(mean_squared_error(y_test,y_pred[i])),8))\n",
    "    mae.append(round(mean_absolute_error(y_test,y_pred[i]),8))\n",
    "    mape.append(round(mean_absolute_percentage_error(y_test,y_pred[i]),8))\n",
    "\n",
    "name = [\"OLS-Control for covariates\",\"OLS-Do not control for covariates\",\"Random Forest\",\"Stacking\"]\n",
    "measure = [\"R-squared\", \"RMSE\", \"MAE\", \"MAPE\"]\n",
    "data = np.array([r2,rmse,mae,mape]).T.tolist()\n",
    "pd.DataFrame(data, columns = measure, index = name)"
   ]
  },
  {
   "cell_type": "markdown",
   "metadata": {},
   "source": [
    "At first, we used two ols models to predict medical costs. For first model, we controlled for covariates, and for the second model, we did not control for covariate \"age\". R-squared is a number of systematic variation over total variation, which is used to measure the accuracy of models. R-squared is larger than 0.7, which indicates the fit of model is good. The model that we control for covariates was more accurate, which has a higher R-squared score. According to the results, we found that smokers have more medical costs compared with the non-smoking group. For BMI, the higher BMI, the higher medical costs. Whether the person is smoker has a higher impact on medical costs, compared with BMI. Our findings are robust to the two different model specifications. In the first model, we added a covariate \"age\". Older people tend to have higher medical costs. Comparing the variables age and BMI, BMI has a higher impact on medical charges."
   ]
  },
  {
   "cell_type": "markdown",
   "metadata": {},
   "source": [
    "In addition, we used two other regressors of random Forest and stacking. Comparing the R-squared score, RMSE, MAE and MAPE, it is clear that random forest model has a much better performance than the first OLS model. The last model using stacking regressor made a little improvement compared with the random forest model, the R-squared score is closer to 1, and RMSE and MAE have decreased."
   ]
  },
  {
   "cell_type": "markdown",
   "metadata": {},
   "source": [
    "## **Section 5** - Conclusion"
   ]
  },
  {
   "cell_type": "markdown",
   "metadata": {},
   "source": [
    "We conducted data analysis and build models to predict the medical cost in this project.  We focused on the main factors including BMI and whether the person is a smoker. The result shows that smoking and high BMI can lead to higher medical cost. Smoking has an adverse effect on human health. In the dataset we used, no samples had BMI values below 15. From the results of data analysis, the problem of high BMI is more obvious. Obesity and overweight can also lead to health problems. The results of the models are consistent with the facts in reality."
   ]
  },
  {
   "cell_type": "markdown",
   "metadata": {},
   "source": [
    "For further research, the impact of smoking and BMI on medical expenses can be further investigated . For example, for smoking status, the weekly smoking volume of the sample needs to be collected to replace the current dummy variable. For BMI, as mentioned above, there are no samples with low BMI in this data set. In the follow-up study, the situation of low BMI can be further analyzed. In addition, BMI of a person can easily change, since the change of eating habits and exercise habits will greatly affect BMI. We can explore whether the change of BMI will have a significant impact on the medical cost, for example, whether the group with high BMI will be able to significantly reduce their medical cost after losing weight."
   ]
  },
  {
   "cell_type": "markdown",
   "metadata": {},
   "source": [
    "## References\n",
    "\n",
    "Shakhovska, Melnykova, N., Chopiyak, V., & Gregus Ml, M. (2022). An ensemble methods for medical insurance costs prediction task. Computers, Materials & Continua, 70(2), 3969–3984. https://doi.org/10.32604/cmc.2022.019882\n",
    "\n",
    "Kuo, Yu, L.-C., Chen, H.-C., & Chan, C.-L. (2018). Comparison of models for the prediction of medical costs of spinal fusion in Taiwan diagnosis-related groups by machine learning algorithms. Healthcare Informatics Research, 24(1), 29–37. https://doi.org/10.4258/hir.2018.24.1.29"
   ]
  }
 ],
 "metadata": {
  "kernelspec": {
   "display_name": "Python 3 (ipykernel)",
   "language": "python",
   "name": "python3"
  },
  "language_info": {
   "codemirror_mode": {
    "name": "ipython",
    "version": 3
   },
   "file_extension": ".py",
   "mimetype": "text/x-python",
   "name": "python",
   "nbconvert_exporter": "python",
   "pygments_lexer": "ipython3",
   "version": "3.9.7"
  }
 },
 "nbformat": 4,
 "nbformat_minor": 4
}
